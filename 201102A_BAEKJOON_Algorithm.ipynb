{
  "nbformat": 4,
  "nbformat_minor": 0,
  "metadata": {
    "colab": {
      "name": "201102A_BAEKJOON_Algorithm.ipynb",
      "provenance": []
    },
    "kernelspec": {
      "name": "python3",
      "display_name": "Python 3"
    }
  },
  "cells": [
    {
      "cell_type": "markdown",
      "metadata": {
        "id": "waeDxtPu1uxw"
      },
      "source": [
        "# 문제\n",
        "- 땅 위에 달팽이가 있다. 이 달팽이는 높이가 V미터인 나무 막대를 올라갈 것이다.\n",
        "\n",
        "- 달팽이는 낮에 A미터 올라갈 수 있다. \n",
        "- 하지만, 밤에 잠을 자는 동안 B미터 미끄러진다. \n",
        "- 또, 정상에 올라간 후에는 미끄러지지 않는다.\n",
        "\n",
        "- 달팽이가 나무 막대를 모두 올라가려면, 며칠이 걸리는지 구하는 프로그램을 작성하시오.\n",
        "\n",
        "# 입력\n",
        "- 첫째 줄에 세 정수 A, B, V가 공백으로 구분되어서 주어진다. (1 ≤ B < A ≤ V ≤ 1,000,000,000)\n",
        "\n",
        "# 출력\n",
        "- 첫째 줄에 달팽이가 나무 막대를 모두 올라가는데 며칠이 걸리는지 출력한다."
      ]
    },
    {
      "cell_type": "code",
      "metadata": {
        "id": "zuC5my-41JqR",
        "outputId": "2355c67a-d037-49b8-c1ee-c3cce0cd20ac",
        "colab": {
          "base_uri": "https://localhost:8080/"
        }
      },
      "source": [
        "a,b,v = map(int,input().split())\n",
        "k = (v-b)/(a-b)\n",
        "print(int(k) if k == int(k) else int(k)+1)"
      ],
      "execution_count": 2,
      "outputs": [
        {
          "output_type": "stream",
          "text": [
            "6 2 100\n",
            "25\n"
          ],
          "name": "stdout"
        }
      ]
    },
    {
      "cell_type": "code",
      "metadata": {
        "id": "0H5TMC_J4G9R"
      },
      "source": [
        ""
      ],
      "execution_count": null,
      "outputs": []
    }
  ]
}