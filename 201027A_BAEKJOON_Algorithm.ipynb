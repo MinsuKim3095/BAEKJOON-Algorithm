{
  "nbformat": 4,
  "nbformat_minor": 0,
  "metadata": {
    "colab": {
      "name": "201027A_BAEKJOON_Algorithm.ipynb",
      "provenance": []
    },
    "kernelspec": {
      "name": "python3",
      "display_name": "Python 3"
    }
  },
  "cells": [
    {
      "cell_type": "markdown",
      "metadata": {
        "id": "D6AD17ReoBnM"
      },
      "source": [
        "#문제 (1157)\n",
        "- 알파벳 대소문자로 된 단어가 주어지면, 이 단어에서 가장 많이 사용된 알파벳이 무엇인지 알아내는 프로그램을 작성하시오. \n",
        "- 단, 대문자와 소문자를 구분하지 않는다.\n",
        "\n",
        "# 입력\n",
        "- 첫째 줄에 알파벳 대소문자로 이루어진 단어가 주어진다. \n",
        "- 주어지는 단어의 길이는 1,000,000을 넘지 않는다.\n",
        "\n",
        "# 출력\n",
        "- 첫째 줄에 이 단어에서 가장 많이 사용된 알파벳을 대문자로 출력한다. \n",
        "- 단, 가장 많이 사용된 알파벳이 여러 개 존재하는 경우에는 ?를 출력한다."
      ]
    },
    {
      "cell_type": "code",
      "metadata": {
        "id": "cRsQXlx1hE94",
        "outputId": "5408b2af-8496-4466-c040-3b2f2d74f400",
        "colab": {
          "base_uri": "https://localhost:8080/",
          "height": 52
        }
      },
      "source": [
        "word = input().upper()\n",
        "word"
      ],
      "execution_count": 13,
      "outputs": [
        {
          "output_type": "stream",
          "text": [
            "mississipi\n"
          ],
          "name": "stdout"
        },
        {
          "output_type": "execute_result",
          "data": {
            "application/vnd.google.colaboratory.intrinsic+json": {
              "type": "string"
            },
            "text/plain": [
              "'MISSISSIPI'"
            ]
          },
          "metadata": {
            "tags": []
          },
          "execution_count": 13
        }
      ]
    },
    {
      "cell_type": "code",
      "metadata": {
        "id": "90mbAfb1oUBv"
      },
      "source": [
        "t= []\n",
        "for i in set(word) :\n",
        "  t.append(word.count(i))"
      ],
      "execution_count": 11,
      "outputs": []
    },
    {
      "cell_type": "code",
      "metadata": {
        "id": "EoUs3qKYo1Jp",
        "outputId": "b5138373-a7e4-4ddd-b926-82898c53e8c2",
        "colab": {
          "base_uri": "https://localhost:8080/",
          "height": 34
        }
      },
      "source": [
        "t"
      ],
      "execution_count": 12,
      "outputs": [
        {
          "output_type": "execute_result",
          "data": {
            "text/plain": [
              "[4, 1, 1, 4]"
            ]
          },
          "metadata": {
            "tags": []
          },
          "execution_count": 12
        }
      ]
    },
    {
      "cell_type": "code",
      "metadata": {
        "id": "e3EIhU4Eo1_Q",
        "outputId": "cb0b3365-81c5-4de8-94fd-e3c1bc77c56c",
        "colab": {
          "base_uri": "https://localhost:8080/",
          "height": 34
        }
      },
      "source": [
        "index = [i for i,x in enumerate(t) if x==max(t)]\n",
        "index"
      ],
      "execution_count": 14,
      "outputs": [
        {
          "output_type": "execute_result",
          "data": {
            "text/plain": [
              "[0, 3]"
            ]
          },
          "metadata": {
            "tags": []
          },
          "execution_count": 14
        }
      ]
    },
    {
      "cell_type": "code",
      "metadata": {
        "id": "A8C5OuwwpAYo",
        "outputId": "ad201c45-404b-4ae0-ebb8-1b10858d7c39",
        "colab": {
          "base_uri": "https://localhost:8080/",
          "height": 34
        }
      },
      "source": [
        "if len(index)>1:print('?')\n",
        "else : print(list(set(word))[t.index(max(t))])"
      ],
      "execution_count": 15,
      "outputs": [
        {
          "output_type": "stream",
          "text": [
            "?\n"
          ],
          "name": "stdout"
        }
      ]
    },
    {
      "cell_type": "code",
      "metadata": {
        "id": "eKXuHzgbpG73"
      },
      "source": [
        "word = input().upper()\n",
        "t= []\n",
        "for i in set(word) :\n",
        "  t.append(word.count(i))\n",
        "index = [i for i,x in enumerate(t) if x==max(t)]\n",
        "if len(index)>1:print('?')\n",
        "else : print(list(set(word))[t.index(max(t))])"
      ],
      "execution_count": null,
      "outputs": []
    },
    {
      "cell_type": "markdown",
      "metadata": {
        "id": "yXC_qWf1vnvl"
      },
      "source": [
        "# 문제 (1152)\n",
        "- 영어 대소문자와 띄어쓰기만으로 이루어진 문자열이 주어진다. \n",
        "- 이 문자열에는 몇 개의 단어가 있을까? 이를 구하는 프로그램을 작성하시오. \n",
        "- 단, 한 단어가 여러 번 등장하면 등장한 횟수만큼 모두 세어야 한다.\n",
        "\n",
        "# 입력\n",
        "- 첫 줄에 영어 대소문자와 띄어쓰기로 이루어진 문자열이 주어진다. \n",
        "- 이 문자열의 길이는 1,000,000을 넘지 않는다. \n",
        "- 단어는 띄어쓰기 한 개로 구분되며, 공백이 연속해서 나오는 경우는 없다. \n",
        "- 또한 문자열의 앞과 뒤에는 공백이 있을 수도 있다.\n",
        "\n",
        "# 출력\n",
        "- 첫째 줄에 단어의 개수를 출력한다."
      ]
    },
    {
      "cell_type": "code",
      "metadata": {
        "id": "e7JVXPrEvxgn",
        "outputId": "c52311ac-cb97-4812-a425-4c83430feb7e",
        "colab": {
          "base_uri": "https://localhost:8080/",
          "height": 51
        }
      },
      "source": [
        "n = input().split()\n",
        "\n",
        "print(len(n))"
      ],
      "execution_count": 19,
      "outputs": [
        {
          "output_type": "stream",
          "text": [
            "The Curious Yes Man oh yeah\n",
            "6\n"
          ],
          "name": "stdout"
        }
      ]
    },
    {
      "cell_type": "markdown",
      "metadata": {
        "id": "jZ9vgUZiyYYW"
      },
      "source": [
        "#문제(2908)\n",
        "- 상근이의 동생 상수는 수학을 정말 못한다. 상수는 숫자를 읽는데 문제가 있다. \n",
        "- 이렇게 수학을 못하는 상수를 위해서 상근이는 수의 크기를 비교하는 문제를 내주었다. \n",
        "-상근이는 세 자리 수 두 개를 칠판에 써주었다. \n",
        "- 그 다음에 크기가 큰 수를 말해보라고 했다.\n",
        "\n",
        "- 상수는 수를 다른 사람과 다르게 거꾸로 읽는다. \n",
        "- 예를 들어, 734와 893을 칠판에 적었다면, 상수는 이 수를 437과 398로 읽는다. \n",
        "- 따라서, 상수는 두 수중 큰 수인 437을 큰 수라고 말할 것이다.\n",
        "\n",
        "- 두 수가 주어졌을 때, 상수의 대답을 출력하는 프로그램을 작성하시오.\n",
        "\n",
        "#입력\n",
        "- 첫째 줄에 상근이가 칠판에 적은 두 수 A와 B가 주어진다. \n",
        "- 두 수는 같지 않은 세 자리 수이며, 0이 포함되어 있지 않다.\n",
        "\n",
        "#출력\n",
        "- 첫째 줄에 상수의 대답을 출력한다."
      ]
    },
    {
      "cell_type": "code",
      "metadata": {
        "id": "kfDeH2Y6yYGr",
        "outputId": "13c7abdb-1df3-45cf-ebed-493340bab54d",
        "colab": {
          "base_uri": "https://localhost:8080/",
          "height": 34
        }
      },
      "source": [
        "a,b = map(list, map(str,input().split()))"
      ],
      "execution_count": 47,
      "outputs": [
        {
          "output_type": "stream",
          "text": [
            "734 893\n"
          ],
          "name": "stdout"
        }
      ]
    },
    {
      "cell_type": "code",
      "metadata": {
        "id": "iKWiQyD2zENB",
        "outputId": "adbab8bd-c41d-4a19-898b-0a3bedec0e50",
        "colab": {
          "base_uri": "https://localhost:8080/",
          "height": 34
        }
      },
      "source": [
        "a"
      ],
      "execution_count": 48,
      "outputs": [
        {
          "output_type": "execute_result",
          "data": {
            "text/plain": [
              "['7', '3', '4']"
            ]
          },
          "metadata": {
            "tags": []
          },
          "execution_count": 48
        }
      ]
    },
    {
      "cell_type": "code",
      "metadata": {
        "id": "281cj2WQzQUQ",
        "outputId": "d529dbaf-3a0e-4a21-c0e1-5338cb793dbc",
        "colab": {
          "base_uri": "https://localhost:8080/",
          "height": 34
        }
      },
      "source": [
        "b"
      ],
      "execution_count": 49,
      "outputs": [
        {
          "output_type": "execute_result",
          "data": {
            "text/plain": [
              "['8', '9', '3']"
            ]
          },
          "metadata": {
            "tags": []
          },
          "execution_count": 49
        }
      ]
    },
    {
      "cell_type": "code",
      "metadata": {
        "id": "HMR5eqImzVhG"
      },
      "source": [
        "a.reverse()"
      ],
      "execution_count": 50,
      "outputs": []
    },
    {
      "cell_type": "code",
      "metadata": {
        "id": "PyKg6RMPzdyY"
      },
      "source": [
        "b.reverse()"
      ],
      "execution_count": 51,
      "outputs": []
    },
    {
      "cell_type": "code",
      "metadata": {
        "id": "sUbCGt9RzrJP",
        "outputId": "713d22e8-dedb-4284-a824-126ef0d2a31c",
        "colab": {
          "base_uri": "https://localhost:8080/",
          "height": 34
        }
      },
      "source": [
        "a"
      ],
      "execution_count": 52,
      "outputs": [
        {
          "output_type": "execute_result",
          "data": {
            "text/plain": [
              "['4', '3', '7']"
            ]
          },
          "metadata": {
            "tags": []
          },
          "execution_count": 52
        }
      ]
    },
    {
      "cell_type": "code",
      "metadata": {
        "id": "bdOpRH7NzsA2",
        "outputId": "e22b7586-4dfd-426c-e139-c52809cbd5a3",
        "colab": {
          "base_uri": "https://localhost:8080/",
          "height": 34
        }
      },
      "source": [
        "b"
      ],
      "execution_count": 53,
      "outputs": [
        {
          "output_type": "execute_result",
          "data": {
            "text/plain": [
              "['3', '9', '8']"
            ]
          },
          "metadata": {
            "tags": []
          },
          "execution_count": 53
        }
      ]
    },
    {
      "cell_type": "code",
      "metadata": {
        "id": "Zja2ZS9T0Tyf",
        "outputId": "b6942635-546b-47b0-8270-85b7b70fd07f",
        "colab": {
          "base_uri": "https://localhost:8080/",
          "height": 34
        }
      },
      "source": [
        "if a > b :\n",
        "  print(a)\n",
        "else :\n",
        "  print(b)"
      ],
      "execution_count": 54,
      "outputs": [
        {
          "output_type": "stream",
          "text": [
            "['4', '3', '7']\n"
          ],
          "name": "stdout"
        }
      ]
    },
    {
      "cell_type": "code",
      "metadata": {
        "id": "FcvvOoQ60Wie",
        "outputId": "10a9b294-6d46-42d1-b016-26c454706999",
        "colab": {
          "base_uri": "https://localhost:8080/",
          "height": 51
        }
      },
      "source": [
        "a,b = map(list, map(str,input().split()))\n",
        "a.reverse()\n",
        "b.reverse()\n",
        "\n",
        "a_reverse = ''.join(a)\n",
        "b_reverse = ''.join(b)\n",
        "if a > b :\n",
        "  print(a)\n",
        "else :\n",
        "  print(b)"
      ],
      "execution_count": 57,
      "outputs": [
        {
          "output_type": "stream",
          "text": [
            "734 893\n",
            "['4', '3', '7']\n"
          ],
          "name": "stdout"
        }
      ]
    },
    {
      "cell_type": "code",
      "metadata": {
        "id": "oe5I91yY0q9w",
        "outputId": "fe9b5f4b-114e-434a-db50-dccf3d34d11c",
        "colab": {
          "base_uri": "https://localhost:8080/",
          "height": 35
        }
      },
      "source": [
        "a_reverse"
      ],
      "execution_count": 58,
      "outputs": [
        {
          "output_type": "execute_result",
          "data": {
            "application/vnd.google.colaboratory.intrinsic+json": {
              "type": "string"
            },
            "text/plain": [
              "'437'"
            ]
          },
          "metadata": {
            "tags": []
          },
          "execution_count": 58
        }
      ]
    },
    {
      "cell_type": "code",
      "metadata": {
        "id": "7LXTN7RC4Sfb",
        "outputId": "c86fcd7e-2981-4716-b4ed-a80c3c8040a2",
        "colab": {
          "base_uri": "https://localhost:8080/",
          "height": 35
        }
      },
      "source": [
        "b_reverse"
      ],
      "execution_count": 59,
      "outputs": [
        {
          "output_type": "execute_result",
          "data": {
            "application/vnd.google.colaboratory.intrinsic+json": {
              "type": "string"
            },
            "text/plain": [
              "'398'"
            ]
          },
          "metadata": {
            "tags": []
          },
          "execution_count": 59
        }
      ]
    },
    {
      "cell_type": "code",
      "metadata": {
        "id": "0V4i47GE4TBs",
        "outputId": "cad2a64e-ab86-4fd6-ce44-7606cf84cd56",
        "colab": {
          "base_uri": "https://localhost:8080/",
          "height": 34
        }
      },
      "source": [
        "a"
      ],
      "execution_count": 60,
      "outputs": [
        {
          "output_type": "execute_result",
          "data": {
            "text/plain": [
              "['4', '3', '7']"
            ]
          },
          "metadata": {
            "tags": []
          },
          "execution_count": 60
        }
      ]
    },
    {
      "cell_type": "code",
      "metadata": {
        "id": "dPaeuTwC4ThZ",
        "outputId": "94d8f5d5-4c32-4ad4-f3b5-73950bc699e1",
        "colab": {
          "base_uri": "https://localhost:8080/",
          "height": 34
        }
      },
      "source": [
        "b"
      ],
      "execution_count": 61,
      "outputs": [
        {
          "output_type": "execute_result",
          "data": {
            "text/plain": [
              "['3', '9', '8']"
            ]
          },
          "metadata": {
            "tags": []
          },
          "execution_count": 61
        }
      ]
    },
    {
      "cell_type": "markdown",
      "metadata": {
        "id": "Icn-OQNdAbZf"
      },
      "source": [
        "#문제\n",
        "- 상근이의 할머니는 아래 그림과 같이 오래된 다이얼 전화기를 사용한다.\n",
        "- 전화를 걸고 싶은 번호가 있다면, 숫자를 하나를 누른 다음에 금속 핀이 있는 곳 까지 시계방향으로 돌려야 한다. \n",
        "- 숫자를 하나 누르면 다이얼이 처음 위치로 돌아가고, 다음 숫자를 누르려면 다이얼을 처음 위치에서 다시 돌려야 한다.\n",
        "\n",
        "- 숫자 1을 걸려면 총 2초가 필요하다. \n",
        "- 1보다 큰 수를 거는데 걸리는 시간은 이보다 더 걸리며, 한 칸 옆에 있는 숫자를 걸기 위해선 1초씩 더 걸린다.\n",
        "\n",
        "- 상근이의 할머니는 전화 번호를 각 숫자에 해당하는 문자로 외운다. \n",
        "- 즉, 어떤 단어를 걸 때, 각 알파벳에 해당하는 숫자를 걸면 된다. \n",
        "- 예를 들어, UNUCIC는 868242와 같다.\n",
        "\n",
        "- 할머니가 외운 단어가 주어졌을 때, 이 전화를 걸기 위해서 필요한 시간을 구하는 프로그램을 작성하시오.\n",
        "\n",
        "# 입력\n",
        "- 첫째 줄에 알파벳 대문자로 이루어진 단어가 주어진다. \n",
        "- 단어는 2글자~15글자로 이루어져 있다.\n",
        "\n",
        "#출력\n",
        "- 첫째 줄에 다이얼을 걸기 위해서 필요한 시간을 출력한다."
      ]
    },
    {
      "cell_type": "code",
      "metadata": {
        "id": "sFTUPJV14T93",
        "outputId": "35e9fe8a-4580-42a4-a15c-b35ee1bb1b69",
        "colab": {
          "base_uri": "https://localhost:8080/",
          "height": 51
        }
      },
      "source": [
        "words = input().lower()\n",
        "s = ['abc','def','ghi','jkl','mno','pqrs','tuv','wxyz']\n",
        "\n",
        "time = 0\n",
        "for i in range(len(words)):\n",
        "    for j in s:\n",
        "        if(words[i] in j):\n",
        "            time += s.index(j) + 3\n",
        "print(time)"
      ],
      "execution_count": 68,
      "outputs": [
        {
          "output_type": "stream",
          "text": [
            "UNICIC\n",
            "32\n"
          ],
          "name": "stdout"
        }
      ]
    },
    {
      "cell_type": "code",
      "metadata": {
        "id": "R8tamaVoAshH",
        "outputId": "6c216aea-d2aa-434a-ad90-31ec0600ac1c",
        "colab": {
          "base_uri": "https://localhost:8080/",
          "height": 34
        }
      },
      "source": [
        "a"
      ],
      "execution_count": 67,
      "outputs": [
        {
          "output_type": "execute_result",
          "data": {
            "text/plain": [
              "['UNUCIC']"
            ]
          },
          "metadata": {
            "tags": []
          },
          "execution_count": 67
        }
      ]
    }
  ]
}