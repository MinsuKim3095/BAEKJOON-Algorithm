{
  "nbformat": 4,
  "nbformat_minor": 0,
  "metadata": {
    "colab": {
      "name": "201025A_BaekJoon_Practice.ipynb",
      "provenance": [],
      "collapsed_sections": []
    },
    "kernelspec": {
      "name": "python3",
      "display_name": "Python 3"
    }
  },
  "cells": [
    {
      "cell_type": "code",
      "metadata": {
        "id": "wla8_r5DuSTW"
      },
      "source": [
        ""
      ],
      "execution_count": null,
      "outputs": []
    },
    {
      "cell_type": "markdown",
      "metadata": {
        "id": "rYP7ktKHGce1"
      },
      "source": [
        "# 문제 (1110)\n",
        "- 0보다 크거나 같고, 99보다 작거나 같은 정수가 주어질 때 다음과 같은 연산을 할 수 있다. \n",
        "- 먼저 주어진 수가 10보다 작다면 앞에 0을 붙여 두 자리 수로 만들고, 각 자리의 숫자를 더한다. \n",
        "- 그 다음, 주어진 수의 가장 오른쪽 자리 수와 앞에서 구한 합의 가장 오른쪽 자리 수를 이어 붙이면 새로운 수를 만들 수 있다. 다음 예를 보자.\n",
        "\n",
        "- 26부터 시작한다. 2+6 = 8이다. 새로운 수는 68이다. 6+8 = 14이다. 새로운 수는 84이다. 8+4 = 12이다. 새로운 수는 42이다. 4+2 = 6이다. 새로운 수는 26이다.\n",
        "\n",
        "- 위의 예는 4번만에 원래 수로 돌아올 수 있다. 따라서 26의 사이클의 길이는 4이다.\n",
        "\n",
        "- N이 주어졌을 때, N의 사이클의 길이를 구하는 프로그램을 작성하시오.\n",
        "\n",
        "#입력\n",
        "첫째 줄에 N이 주어진다. N은 0보다 크거나 같고, 99보다 작거나 같은 정수이다.\n",
        "\n",
        "#출력\n",
        "첫째 줄에 N의 사이클 길이를 출력한다."
      ]
    },
    {
      "cell_type": "code",
      "metadata": {
        "id": "6DgV4tCOGd5s",
        "outputId": "11f73395-1a26-4fff-986f-fec9cbc60a9a",
        "colab": {
          "base_uri": "https://localhost:8080/",
          "height": 50
        }
      },
      "source": [
        "num = temp = int(input())\n",
        "count = 0\n",
        "while True:\n",
        "    ten = num // 10\n",
        "    one = num % 10\n",
        "    total = ten + one\n",
        "    count += 1\n",
        "    num = int(str(num % 10) + str(total % 10))\n",
        "    if(temp == num):\n",
        "        break\n",
        "print(count)"
      ],
      "execution_count": null,
      "outputs": [
        {
          "output_type": "stream",
          "text": [
            "26\n",
            "4\n"
          ],
          "name": "stdout"
        }
      ]
    },
    {
      "cell_type": "markdown",
      "metadata": {
        "id": "BGZDogZ8J8Ow"
      },
      "source": [
        "#코드 이해하기\n",
        "- 비교를 위해 원래 num과 temp 2개를 만듬\n",
        "- count 0으로 초기화\n",
        "- while문으로 반복구조를 걸고\n",
        "- ten = num//10 은 십의 자리 수를 따로 뽑아내는 것\n",
        "- one = num%10 은 일의 자리 수를 따로 뽑아내는 것\n",
        "- total = ten + one은 십의자리수와 일의자리수를 더해서 새로운 수를 만들어 내는 것\n",
        "- count+=1 은 위 행위가 반복될때마다 카운트를 추가 하는 것\n",
        "- 새로운 num을 만들기 위해 원래 num의 일의 자리수+새로운 수의 1의 자리수 더하기\n",
        "- temp는 아까 복사해둔 원래 num, 그리고 새로운 num과 temp를 비교하여 같은지 확인\n",
        "- 같으면 break, 아니면 반복"
      ]
    },
    {
      "cell_type": "markdown",
      "metadata": {
        "id": "OV-5RSN0OkyF"
      },
      "source": [
        "#문제(10818)\n",
        "- N개의 정수가 주어진다. 이때, 최솟값과 최댓값을 구하는 프로그램을 작성하시오.\n",
        "\n",
        "#입력\n",
        "- 첫째 줄에 정수의 개수 N (1 ≤ N ≤ 1,000,000)이 주어진다. 둘째 줄에는 N개의 정수를 공백으로 구분해서 주어진다. \n",
        "- 모든 정수는 -1,000,000보다 크거나 같고, 1,000,000보다 작거나 같은 정수이다.\n",
        "\n",
        "#출력\n",
        "- 첫째 줄에 주어진 정수 N개의 최솟값과 최댓값을 공백으로 구분해 출력한다."
      ]
    },
    {
      "cell_type": "code",
      "metadata": {
        "id": "h19zG9bbOsvW",
        "outputId": "56786c45-582d-4ba0-eff0-8f38cbb5aea0",
        "colab": {
          "base_uri": "https://localhost:8080/",
          "height": 66
        }
      },
      "source": [
        "gaesu = int(input())\n",
        "number = list(map(int, input().split()))\n",
        "print('{} {}'.format(min(number),max(number)))\n"
      ],
      "execution_count": null,
      "outputs": [
        {
          "output_type": "stream",
          "text": [
            "10\n",
            "5 8 83 9 2 100 5 4 11 14\n",
            "2 100\n"
          ],
          "name": "stdout"
        }
      ]
    },
    {
      "cell_type": "markdown",
      "metadata": {
        "id": "tdCrqipnYICc"
      },
      "source": [
        "# 문제(2562번)\n",
        "- 9개의 서로 다른 자연수가 주어질 때, 이들 중 최댓값을 찾고 그 최댓값이 몇 번째 수인지를 구하는 프로그램을 작성하시오.\n",
        "\n",
        "- 예를 들어, 서로 다른 9개의 자연수 3, 29, 38, 12, 57, 74, 40, 85, 61 이 주어지면, 이들 중 최댓값은 85이고, 이 값은 8번째 수이다.\n",
        "\n",
        "- 입력\n",
        "첫 째 줄부터 아홉 번째 줄까지 한 줄에 하나의 자연수가 주어진다. 주어지는 자연수는 100 보다 작다.\n",
        "\n",
        "- 출력\n",
        "첫째 줄에 최댓값을 출력하고, 둘째 줄에 최댓값이 몇 번째 수인지를 출력한다."
      ]
    },
    {
      "cell_type": "code",
      "metadata": {
        "id": "UrG8UDj8Pbqk",
        "outputId": "c957e937-9372-4711-d6cc-e97c7fb4300d",
        "colab": {
          "base_uri": "https://localhost:8080/",
          "height": 200
        }
      },
      "source": [
        "a = []\n",
        "for i in range(9) :\n",
        "  a.append(int(input()))\n",
        "print(max(a))\n",
        "print(a.index(max(a))+1)"
      ],
      "execution_count": null,
      "outputs": [
        {
          "output_type": "stream",
          "text": [
            "3\n",
            "15\n",
            "28\n",
            "74\n",
            "90\n",
            "16\n",
            "8\n",
            "9\n",
            "45\n",
            "90\n",
            "5\n"
          ],
          "name": "stdout"
        }
      ]
    },
    {
      "cell_type": "markdown",
      "metadata": {
        "id": "w68ln4gmbhCx"
      },
      "source": [
        "# 문제 (2577번)\n",
        "- 세 개의 자연수 A, B, C가 주어질 때 A×B×C를 계산한 결과에 0부터 9까지 각각의 숫자가 몇 번씩 쓰였는지를 구하는 프로그램을 작성하시오.\n",
        "\n",
        "- 예를 들어 A = 150, B = 266, C = 427 이라면 \n",
        "\n",
        "- A × B × C = 150 × 266 × 427 = 17037300 이 되고, \n",
        "\n",
        "- 계산한 결과 17037300 에는 0이 3번, 1이 1번, 3이 2번, 7이 2번 쓰였다.\n",
        "\n",
        "# 입력\n",
        "- 첫째 줄에 A, 둘째 줄에 B, 셋째 줄에 C가 주어진다. A, B, C는 모두 100보다 같거나 크고, 1,000보다 작은 자연수이다.\n",
        "\n",
        "# 출력\n",
        "- 첫째 줄에는 A×B×C의 결과에 0 이 몇 번 쓰였는지 출력한다. 마찬가지로 둘째 줄부터 열 번째 줄까지 A×B×C의 결과에 1부터 9까지의 숫자가 각각 몇 번 쓰였는지 차례로 한 줄에 하나씩 출력한다."
      ]
    },
    {
      "cell_type": "code",
      "metadata": {
        "id": "oTcy4LX_ZPXZ",
        "outputId": "42063618-61f4-49c1-f372-c18261913351",
        "colab": {
          "base_uri": "https://localhost:8080/",
          "height": 233
        }
      },
      "source": [
        "A = int(input())\n",
        "B = int(input())\n",
        "C = int(input())\n",
        "mul = str(int(A*B*C))\n",
        "for i in range(0,10) :\n",
        "  print(mul.count(str(i)))"
      ],
      "execution_count": null,
      "outputs": [
        {
          "output_type": "stream",
          "text": [
            "150\n",
            "266\n",
            "427\n",
            "3\n",
            "1\n",
            "0\n",
            "2\n",
            "0\n",
            "0\n",
            "0\n",
            "2\n",
            "0\n",
            "0\n"
          ],
          "name": "stdout"
        }
      ]
    },
    {
      "cell_type": "markdown",
      "metadata": {
        "id": "0KClOAQlfi2c"
      },
      "source": [
        "# 문제(3052)\n",
        "- 두 자연수 A와 B가 있을 때, A%B는 A를 B로 나눈 나머지 이다. \n",
        "- 예를 들어, 7, 14, 27, 38을 3으로 나눈 나머지는 1, 2, 0, 2이다. \n",
        "\n",
        "- 수 10개를 입력받은 뒤, 이를 42로 나눈 나머지를 구한다. \n",
        "- 그 다음 서로 다른 값이 몇 개 있는지 출력하는 프로그램을 작성하시오.\n",
        "\n",
        "# 입력\n",
        "- 첫째 줄부터 열번째 줄 까지 숫자가 한 줄에 하나씩 주어진다.\n",
        "- 이 숫자는 1,000보다 작거나 같고, 음이 아닌 정수이다.\n",
        "\n",
        "# 출력\n",
        "- 첫째 줄에, 42로 나누었을 때, 서로 다른 나머지가 몇 개 있는지 출력한다.\n",
        "\n"
      ]
    },
    {
      "cell_type": "code",
      "metadata": {
        "id": "8PxWgC4kdhMs",
        "outputId": "be8eaee3-9017-49e5-8260-26a7a6bee8a5",
        "colab": {
          "base_uri": "https://localhost:8080/",
          "height": 200
        }
      },
      "source": [
        "arr = []\n",
        "for i in range(10) :\n",
        "  n = int(input())\n",
        "  arr.append(n%42)\n",
        "arr = set(arr)\n",
        "print(len(arr))"
      ],
      "execution_count": null,
      "outputs": [
        {
          "output_type": "stream",
          "text": [
            "39\n",
            "40\n",
            "41\n",
            "42\n",
            "43\n",
            "44\n",
            "82\n",
            "83\n",
            "84\n",
            "85\n",
            "6\n"
          ],
          "name": "stdout"
        }
      ]
    },
    {
      "cell_type": "markdown",
      "metadata": {
        "id": "6pRaRL0Qh9z9"
      },
      "source": [
        "#문제(1546)\n",
        "- 세준이는 기말고사를 망쳤다. 세준이는 점수를 조작해서 집에 가져가기로 했다. \n",
        "- 일단 세준이는 자기 점수 중에 최댓값을 골랐다. 이 값을 M이라고 한다. \n",
        "- 그리고 나서 모든 점수를 점수/M*100으로 고쳤다.\n",
        "\n",
        "- 예를 들어, 세준이의 최고점이 70이고, 수학점수가 50이었으면 수학점수는 50/70*100이 되어 71.43점이 된다.\n",
        "\n",
        "- 세준이의 성적을 위의 방법대로 새로 계산했을 때, 새로운 평균을 구하는 프로그램을 작성하시오.\n",
        "\n",
        "# 입력\n",
        "- 첫째 줄에 시험 본 과목의 개수 N이 주어진다. 이 값은 1000보다 작거나 같다. \n",
        "- 둘째 줄에 세준이의 현재 성적이 주어진다. \n",
        "- 이 값은 100보다 작거나 같은 음이 아닌 정수이고, 적어도 하나의 값은 0보다 크다.\n",
        "\n",
        "# 출력\n",
        "- 첫째 줄에 새로운 평균을 출력한다. \n",
        "- 실제 정답과 출력값의 절대오차 또는 상대오차가 10-2 이하이면 정답이다."
      ]
    },
    {
      "cell_type": "code",
      "metadata": {
        "id": "TCdfWzOrhPLm",
        "outputId": "de9f7a37-01a3-418d-89b4-af2bd371d7aa",
        "colab": {
          "base_uri": "https://localhost:8080/",
          "height": 66
        }
      },
      "source": [
        "N = int(input())\n",
        "M = list(map(int, input().split()))\n",
        "M_max = max(M)\n",
        " \n",
        "for i in range(N):\n",
        "    M[i] = M[i]/M_max*100\n",
        "avg = sum(M)/ N\n",
        "print(\"%.2f\" %avg)"
      ],
      "execution_count": null,
      "outputs": [
        {
          "output_type": "stream",
          "text": [
            "3\n",
            "40 80 60\n",
            "75.00\n"
          ],
          "name": "stdout"
        }
      ]
    },
    {
      "cell_type": "markdown",
      "metadata": {
        "id": "iZl2XSbCl7oK"
      },
      "source": [
        "# 문제\n",
        "- \"OOXXOXXOOO\"와 같은 OX퀴즈의 결과가 있다. \n",
        "- O는 문제를 맞은 것이고, X는 문제를 틀린 것이다. \n",
        "- 문제를 맞은 경우 그 문제의 점수는 그 문제까지 연속된 O의 개수가 된다. \n",
        "- 예를 들어, 10번 문제의 점수는 3이 된다.\n",
        "\n",
        "- \"OOXXOXXOOO\"의 점수는 1+2+0+0+1+0+0+1+2+3 = 10점이다.\n",
        "\n",
        "- OX퀴즈의 결과가 주어졌을 때, 점수를 구하는 프로그램을 작성하시오.\n",
        "\n",
        "# 입력\n",
        "- 첫째 줄에 테스트 케이스의 개수가 주어진다. \n",
        "각 테스트 케이스는 한 줄로 이루어져 있고, 길이가 0보다 크고 80보다 작은 문자열이 주어진다. \n",
        "- 문자열은 O와 X만으로 이루어져 있다.\n",
        "\n",
        "# 출력\n",
        "- 각 테스트 케이스마다 점수를 출력한다."
      ]
    },
    {
      "cell_type": "code",
      "metadata": {
        "id": "hYq8AS79kaAe",
        "outputId": "d426adc2-9d15-492d-e5c6-a12e3ea2b8dc",
        "colab": {
          "base_uri": "https://localhost:8080/",
          "height": 200
        }
      },
      "source": [
        "n = int(input())\n",
        "for i in range(n):\n",
        "    Num = input()\n",
        "    score = 0\n",
        "    cnt = 0\n",
        "    for j in range(len(Num)):\n",
        "        if Num[j] == 'O':\n",
        "            cnt += 1\n",
        "            score += cnt\n",
        "        elif Num[j] == 'X':\n",
        "            score += 0\n",
        "            cnt = 0\n",
        "    print(score)"
      ],
      "execution_count": null,
      "outputs": [
        {
          "output_type": "stream",
          "text": [
            "5\n",
            "OOXXOXXOOO\n",
            "10\n",
            "OOXXOOXXOO\n",
            "9\n",
            "OXOXOXOXOXOXOX\n",
            "7\n",
            "OOOOOOOOOO\n",
            "55\n",
            "OOOOXOOOOXOOOOX\n",
            "30\n"
          ],
          "name": "stdout"
        }
      ]
    },
    {
      "cell_type": "markdown",
      "metadata": {
        "id": "zTT34agzqbQC"
      },
      "source": [
        "# 문제\n",
        "- 대학생 새내기들의 90%는 자신이 반에서 평균은 넘는다고 생각한다. \n",
        "- 당신은 그들에게 슬픈 진실을 알려줘야 한다.\n",
        "\n",
        "# 입력\n",
        "- 첫째 줄에는 테스트 케이스의 개수 C가 주어진다.\n",
        "\n",
        "- 둘째 줄부터 각 테스트 케이스마다 학생의 수 N(1 ≤ N ≤ 1000, N은 정수)이 첫 수로 주어지고, 이어서 N명의 점수가 주어진다. \n",
        "- 점수는 0보다 크거나 같고, 100보다 작거나 같은 정수이다.\n",
        "\n",
        "# 출력\n",
        "- 각 케이스마다 한 줄씩 평균을 넘는 학생들의 비율을 반올림하여 소수점 셋째 자리까지 출력한다."
      ]
    },
    {
      "cell_type": "code",
      "metadata": {
        "id": "46HwtXPtoAlF",
        "outputId": "fa5e48cf-dcb3-4e1f-f787-cf86cf98ec3c",
        "colab": {
          "base_uri": "https://localhost:8080/",
          "height": 350
        }
      },
      "source": [
        "c = int(input())\n",
        "for i in range(c) :\n",
        "  score = list(map(int, input().split()))\n",
        "  avg = sum(score[1:]) / score[0]\n",
        "  cnt = 0\n",
        "  for j in score[1:]:\n",
        "        if j > avg : \n",
        "            cnt += 1\n",
        "            print(str(\"%.3f\" %round((cnt/score[0])*100, 3))+\"%\")\n"
      ],
      "execution_count": null,
      "outputs": [
        {
          "output_type": "stream",
          "text": [
            "5\n",
            "5 50 50 70 80 100\n",
            "20.000%\n",
            "40.000%\n",
            "7 100 95 90 80 70 60 50\n",
            "14.286%\n",
            "28.571%\n",
            "42.857%\n",
            "57.143%\n",
            "3 70 90 80\n",
            "33.333%\n",
            "3 70 90 81\n",
            "33.333%\n",
            "66.667%\n",
            "9 100 99 98 97 96 95 94 93 91\n",
            "11.111%\n",
            "22.222%\n",
            "33.333%\n",
            "44.444%\n",
            "55.556%\n"
          ],
          "name": "stdout"
        }
      ]
    },
    {
      "cell_type": "markdown",
      "metadata": {
        "id": "3cVmbcpwxotY"
      },
      "source": [
        "# 문제\n",
        "- 셀프 넘버는 1949년 인도 수학자 D.R. Kaprekar가 이름 붙였다. \n",
        "- 양의 정수 n에 대해서 d(n)을 n과 n의 각 자리수를 더하는 함수라고 정의하자. \n",
        "- 예를 들어, d(75) = 75+7+5 = 87이다.\n",
        "\n",
        "- 양의 정수 n이 주어졌을 때, 이 수를 시작해서 n, d(n), d(d(n)), d(d(d(n))), ...과 같은 무한 수열을 만들 수 있다. \n",
        "\n",
        "- 예를 들어, 33으로 시작한다면 다음 수는 33 + 3 + 3 = 39이고, 그 다음 수는 39 + 3 + 9 = 51, 다음 수는 51 + 5 + 1 = 57이다. 이런식으로 다음과 같은 수열을 만들 수 있다.\n",
        "\n",
        "- 33, 39, 51, 57, 69, 84, 96, 111, 114, 120, 123, 129, 141, ...\n",
        "\n",
        "- n을 d(n)의 생성자라고 한다. 위의 수열에서 33은 39의 생성자이고, 39는 51의 생성자, 51은 57의 생성자이다. 생성자가 한 개보다 많은 경우도 있다. 예를 들어, 101은 생성자가 2개(91과 100) 있다. \n",
        "\n",
        "- 생성자가 없는 숫자를 셀프 넘버라고 한다. 100보다 작은 셀프 넘버는 총 13개가 있다. 1, 3, 5, 7, 9, 20, 31, 42, 53, 64, 75, 86, 97\n",
        "\n",
        "- 10000보다 작거나 같은 셀프 넘버를 한 줄에 하나씩 출력하는 프로그램을 작성하시오.\n",
        "\n",
        "# 입력\n",
        "- 입력은 없다.\n",
        "\n",
        "#출력\n",
        "- 10,000보다 작거나 같은 셀프 넘버를 한 줄에 하나씩 증가하는 순서로 출력한다."
      ]
    },
    {
      "cell_type": "code",
      "metadata": {
        "id": "VlFsC7Dvs6FC"
      },
      "source": [
        "num = set(range(1,10001))\n",
        "generated_num = set()\n",
        "for i in range(1,10001):\n",
        "    for j in str(i):\n",
        "        i += int(j)\n",
        "    generated_num.add(i)\n",
        "self_num = num - generated_num\n",
        "for k in sorted(self_num):\n",
        "    print(k)"
      ],
      "execution_count": null,
      "outputs": []
    },
    {
      "cell_type": "markdown",
      "metadata": {
        "id": "tU3-Ik29-EvM"
      },
      "source": [
        "# 문제\n",
        "- 어떤 양의 정수 X의 각 자리가 등차수열을 이룬다면, 그 수를 한수라고 한다. \n",
        "- 등차수열은 연속된 두 개의 수의 차이가 일정한 수열을 말한다. \n",
        "- N이 주어졌을 때, 1보다 크거나 같고, N보다 작거나 같은 한수의 개수를 출력하는 프로그램을 작성하시오. \n",
        "\n",
        "# 입력\n",
        "- 첫째 줄에 1,000보다 작거나 같은 자연수 N이 주어진다.\n",
        "\n",
        "# 출력\n",
        "- 첫째 줄에 1보다 크거나 같고, N보다 작거나 같은 한수의 개수를 출력한다."
      ]
    },
    {
      "cell_type": "code",
      "metadata": {
        "id": "GHB1fm5Z0pGP"
      },
      "source": [
        "num = int(input())\n",
        "hansu = 0\n",
        "\n",
        "for n in range(1, num+1) :\n",
        "    if n <= 99 : # 1부터 99까지는 모두 한수\n",
        "        hansu += 1 \n",
        "    \n",
        "    else :     \n",
        "        nums = list(map(int, str(n))) # 숫자를 자릿수대로 분리 \n",
        "        if nums[0] - nums[1] == nums[1] - nums[2] : #등차수열 확인\n",
        "            hansu+=1"
      ],
      "execution_count": null,
      "outputs": []
    }
  ]
}