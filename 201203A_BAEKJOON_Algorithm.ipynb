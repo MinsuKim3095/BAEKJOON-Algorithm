{
  "nbformat": 4,
  "nbformat_minor": 0,
  "metadata": {
    "colab": {
      "name": "201203A_BAEKJOON_Algorithm.ipynb",
      "provenance": []
    },
    "kernelspec": {
      "name": "python3",
      "display_name": "Python 3"
    }
  },
  "cells": [
    {
      "cell_type": "markdown",
      "metadata": {
        "id": "69xsjSvI1Vk8"
      },
      "source": [
        "# 문제\n",
        "- 정수 4를 1, 2, 3의 합으로 나타내는 방법은 총 7가지가 있다. \n",
        "- 합을 나타낼 때는 수를 1개 이상 사용해야 한다.\n",
        "\n",
        "1+1+1+1\n",
        "1+1+2\n",
        "1+2+1\n",
        "2+1+1\n",
        "2+2\n",
        "1+3\n",
        "3+1\n",
        "\n",
        "- 정수 n이 주어졌을 때, n을 1, 2, 3의 합으로 나타내는 방법의 수를 구하는 프로그램을 작성하시오.\n",
        "\n",
        "#입력\n",
        "- 첫째 줄에 테스트 케이스의 개수 T가 주어진다. \n",
        "- 각 테스트 케이스는 한 줄로 이루어져 있고, 정수 n이 주어진다. \n",
        "- n은 양수이며 11보다 작다.\n",
        "\n",
        "# 출력\n",
        "- 각 테스트 케이스마다, n을 1, 2, 3의 합으로 나타내는 방법의 수를 출력한다."
      ]
    },
    {
      "cell_type": "code",
      "metadata": {
        "colab": {
          "base_uri": "https://localhost:8080/"
        },
        "id": "T1PQFjRR1TJv",
        "outputId": "4f173586-3d68-47c1-ef55-0de08bccfc2b"
      },
      "source": [
        "test_case=int(input())\n",
        "\n",
        "input_list=[]\n",
        "for i in range(test_case):\n",
        "    input_list.append(int(input()))\n",
        "dp=[1,2,4]\n",
        "\n",
        "for i in range(3,max(input_list)):\n",
        "    dp.append(dp[i-1]+dp[i-2]+dp[i-3])\n",
        "\n",
        "for i in input_list:\n",
        "    print(dp[i-1])"
      ],
      "execution_count": 7,
      "outputs": [
        {
          "output_type": "stream",
          "text": [
            "3\n",
            "4\n",
            "7\n",
            "10\n",
            "7\n",
            "44\n",
            "274\n"
          ],
          "name": "stdout"
        }
      ]
    },
    {
      "cell_type": "code",
      "metadata": {
        "id": "E9VwUTRV19kl"
      },
      "source": [
        "2"
      ],
      "execution_count": null,
      "outputs": []
    }
  ]
}