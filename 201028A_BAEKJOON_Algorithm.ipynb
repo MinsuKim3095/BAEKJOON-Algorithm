{
  "nbformat": 4,
  "nbformat_minor": 0,
  "metadata": {
    "colab": {
      "name": "201028A_BAEKJOON_Algorithm.ipynb",
      "provenance": []
    },
    "kernelspec": {
      "name": "python3",
      "display_name": "Python 3"
    }
  },
  "cells": [
    {
      "cell_type": "markdown",
      "metadata": {
        "id": "mlj3_79Bpyc8"
      },
      "source": [
        "# 문제 (2941)\n",
        "- 예전에는 운영체제에서 크로아티아 알파벳을 입력할 수가 없었다. \n",
        "- 따라서, 다음과 같이 크로아티아 알파벳을 변경해서 입력했다.\n",
        "\n",
        "- 크로아티아 알파벳\t변경\n",
        "č\tc=\n",
        "ć\tc-\n",
        "dž\tdz=\n",
        "đ\td-\n",
        "lj\tlj\n",
        "nj\tnj\n",
        "š\ts=\n",
        "ž\tz=\n",
        "- 예를 들어, ljes=njak은 크로아티아 알파벳 6개(lj, e, š, nj, a, k)로 이루어져 있다. \n",
        "- 단어가 주어졌을 때, 몇 개의 크로아티아 알파벳으로 이루어져 있는지 출력한다.\n",
        "\n",
        "- dž는 무조건 하나의 알파벳으로 쓰이고, d와 ž가 분리된 것으로 보지 않는다. \n",
        "- lj와 nj도 마찬가지이다. 위 목록에 없는 알파벳은 한 글자씩 센다.\n",
        "\n",
        "# 입력\n",
        "- 첫째 줄에 최대 100글자의 단어가 주어진다. \n",
        "- 알파벳 소문자와 '-', '='로만 이루어져 있다.\n",
        "\n",
        "- 단어는 크로아티아 알파벳으로 이루어져 있다. \n",
        "- 문제 설명의 표에 나와있는 알파벳은 변경된 형태로 입력된다.\n",
        "\n",
        "# 출력\n",
        "- 입력으로 주어진 단어가 몇 개의 크로아티아 알파벳으로 이루어져 있는지 출력한다.\n",
        "\n"
      ]
    },
    {
      "cell_type": "code",
      "metadata": {
        "id": "vDXWihVppqGN"
      },
      "source": [
        "a = ['c=', 'c-', 'dz=', 'd-', 'lj', 'nj', 's=', 'z=']\n",
        "b = input()\n",
        "for i in a:\n",
        "    b = b.replace(i, 'a')\n",
        "print(len(b))"
      ],
      "execution_count": null,
      "outputs": []
    }
  ]
}