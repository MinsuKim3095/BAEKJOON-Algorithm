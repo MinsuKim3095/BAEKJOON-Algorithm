{
  "nbformat": 4,
  "nbformat_minor": 0,
  "metadata": {
    "colab": {
      "name": "201030A_BAEKJOON_Algorithm.ipynb",
      "provenance": [],
      "collapsed_sections": []
    },
    "kernelspec": {
      "name": "python3",
      "display_name": "Python 3"
    }
  },
  "cells": [
    {
      "cell_type": "markdown",
      "metadata": {
        "id": "YQZZb3OJh9k9"
      },
      "source": [
        "# 문제\n",
        "- 그룹 단어란 단어에 존재하는 모든 문자에 대해서, 각 문자가 연속해서 나타나는 경우만을 말한다. \n",
        "- 예를 들면, ccazzzzbb는 c, a, z, b가 모두 연속해서 나타나고, kin도 k, i, n이 연속해서 나타나기 때문에 그룹 단어이지만, aabbbccb는 b가 떨어져서 나타나기 때문에 그룹 단어가 아니다.\n",
        "\n",
        "- 단어 N개를 입력으로 받아 그룹 단어의 개수를 출력하는 프로그램을 작성하시오.\n",
        "\n",
        "# 입력\n",
        "- 첫째 줄에 단어의 개수 N이 들어온다. N은 100보다 작거나 같은 자연수이다. \n",
        "- 둘째 줄부터 N개의 줄에 단어가 들어온다. \n",
        "- 단어는 알파벳 소문자로만 되어있고 중복되지 않으며, 길이는 최대 100이다.\n",
        "\n",
        "# 출력\n",
        "- 첫째 줄에 그룹 단어의 개수를 출력한다."
      ]
    },
    {
      "cell_type": "code",
      "metadata": {
        "id": "wEoRZ8VIh6H0"
      },
      "source": [
        "N=int(input())\n",
        "\n",
        "answer=0\n",
        "\n",
        "for i in range(N):\n",
        "    word = input()\n",
        "    for j in range(len(word)):\n",
        "        if j!=len(word)-1:\n",
        "            if word[j]==word[j+1]:\n",
        "                pass\n",
        "            elif word[j] in word[j+1:]:\n",
        "                break\n",
        "        else:\n",
        "            answer+=1\n",
        "print(answer)"
      ],
      "execution_count": null,
      "outputs": []
    }
  ]
}