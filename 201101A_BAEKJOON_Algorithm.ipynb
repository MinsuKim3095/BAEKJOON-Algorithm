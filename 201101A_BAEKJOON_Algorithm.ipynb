{
  "nbformat": 4,
  "nbformat_minor": 0,
  "metadata": {
    "colab": {
      "name": "201101A_BAEKJOON_Algorithm.ipynb",
      "provenance": []
    },
    "kernelspec": {
      "name": "python3",
      "display_name": "Python 3"
    }
  },
  "cells": [
    {
      "cell_type": "markdown",
      "metadata": {
        "id": "a5d5zWwqSCf_"
      },
      "source": [
        "# 문제\n",
        "- 월드전자는 노트북을 제조하고 판매하는 회사이다. \n",
        "- 노트북 판매 대수에 상관없이 매년 임대료, 재산세, 보험료, 급여 등 A만원의 고정 비용이 들며, 한 대의 노트북을 생산하는 데에는 재료비와 인건비 등 총 B만원의 가변 비용이 든다고 한다.\n",
        "\n",
        "- 예를 들어 A=1,000, B=70이라고 하자. 이 경우 노트북을 한 대 생산하는 데는 총 1,070만원이 들며, 열 대 생산하는 데는 총 1,700만원이 든다.\n",
        "\n",
        "- 노트북 가격이 C만원으로 책정되었다고 한다. \n",
        "- 일반적으로 생산 대수를 늘려 가다 보면 어느 순간 총 수입(판매비용)이 총 비용(=고정비용+가변비용)보다 많아지게 된다. \n",
        "- 최초로 총 수입이 총 비용보다 많아져 이익이 발생하는 지점을 손익분기점(BREAK-EVEN POINT)이라고 한다.\n",
        "\n",
        "- A, B, C가 주어졌을 때, 손익분기점을 구하는 프로그램을 작성하시오.\n",
        "\n",
        "# 입력\n",
        "- 첫째 줄에 A, B, C가 빈 칸을 사이에 두고 순서대로 주어진다. \n",
        "- A, B, C는 21억 이하의 자연수이다.\n",
        "\n",
        "#출력\n",
        "- 첫 번째 줄에 손익분기점 즉 최초로 이익이 발생하는 판매량을 출력한다. - 손익분기점이 존재하지 않으면 -1을 출력한다."
      ]
    },
    {
      "cell_type": "code",
      "metadata": {
        "id": "4ZHIqxvyRo-e",
        "outputId": "add22067-7b3f-47d2-fb87-39ed768207ad",
        "colab": {
          "base_uri": "https://localhost:8080/"
        }
      },
      "source": [
        "a,b,c = map(int, input().split())\n",
        "if b>=c : print(-1)\n",
        "else : print(int(a/(c-b))+1) "
      ],
      "execution_count": null,
      "outputs": [
        {
          "output_type": "stream",
          "text": [
            "1000 70 170\n",
            "11\n"
          ],
          "name": "stdout"
        }
      ]
    },
    {
      "cell_type": "markdown",
      "metadata": {
        "id": "OE8vbsxOjfWV"
      },
      "source": [
        "# 문제\n",
        "- 정수 X에 사용할 수 있는 연산은 다음과 같이 세 가지 이다.\n",
        "\n",
        "- X가 3으로 나누어 떨어지면, 3으로 나눈다.\n",
        "- X가 2로 나누어 떨어지면, 2로 나눈다.\n",
        "- 1을 뺀다.\n",
        "- 정수 N이 주어졌을 때, 위와 같은 연산 세 개를 적절히 사용해서 1을 만들려고 한다. \n",
        "- 연산을 사용하는 횟수의 최솟값을 출력하시오.\n",
        "\n",
        "# 입력\n",
        "- 첫째 줄에 1보다 크거나 같고, 106보다 작거나 같은 정수 N이 주어진다.\n",
        "\n",
        "# 출력\n",
        "- 첫째 줄에 연산을 하는 횟수의 최솟값을 출력한다."
      ]
    },
    {
      "cell_type": "code",
      "metadata": {
        "id": "kbsOLsWxT3c9"
      },
      "source": [
        "x = int(input())\n",
        "if x % 3 == 0 :\n",
        "  x / 3\n",
        "elif x % 2 == 0 :\n",
        "  x / 2\n",
        "else :\n",
        "  x - 1\n",
        "\n",
        "  "
      ],
      "execution_count": null,
      "outputs": []
    },
    {
      "cell_type": "code",
      "metadata": {
        "id": "MuinrQYwkNPb"
      },
      "source": [
        ""
      ],
      "execution_count": null,
      "outputs": []
    }
  ]
}