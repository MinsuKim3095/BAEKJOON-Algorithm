{
  "nbformat": 4,
  "nbformat_minor": 0,
  "metadata": {
    "colab": {
      "name": "201103A_BAEKJOON_Algorithm.ipynb",
      "provenance": []
    },
    "kernelspec": {
      "name": "python3",
      "display_name": "Python 3"
    }
  },
  "cells": [
    {
      "cell_type": "markdown",
      "metadata": {
        "id": "ds4fKz-dr0mE"
      },
      "source": [
        "# 문제\n",
        "- 상현이가 가르치는 아이폰 앱 개발 수업의 수강생은 원섭, 세희, 상근, 숭, 강수이다.\n",
        "\n",
        "- 어제 이 수업의 기말고사가 있었고, 상현이는 지금 학생들의 기말고사 시험지를 채점하고 있다. \n",
        "- 기말고사 점수가 40점 이상인 학생들은 그 점수 그대로 자신의 성적이 된다. \n",
        "- 하지만, 40점 미만인 학생들은 보충학습을 듣는 조건을 수락하면 40점을 받게 된다. \n",
        "- 보충학습은 거부할 수 없기 때문에, 40점 미만인 학생들은 항상 40점을 받게 된다.\n",
        "\n",
        "- 학생 5명의 점수가 주어졌을 때, 평균 점수를 구하는 프로그램을 작성하시오.\n",
        "\n",
        "# 입력\n",
        "- 입력은 총 5줄로 이루어져 있고, 원섭이의 점수, 세희의 점수, 상근이의 점수, 숭이의 점수, 강수의 점수가 순서대로 주어진다.\n",
        "\n",
        "- 점수는 모두 0점 이상, 100점 이하인 5의 배수이다. 따라서, 평균 점수는 항상 정수이다. \n",
        "\n",
        "# 출력\n",
        "- 첫째 줄에 학생 5명의 평균 점수를 출력한다."
      ]
    },
    {
      "cell_type": "code",
      "metadata": {
        "id": "uiqi_s_OoXkN",
        "outputId": "36799188-6a8a-4d04-8da9-7cd011cb5f79",
        "colab": {
          "base_uri": "https://localhost:8080/"
        }
      },
      "source": [
        "a = [0]*5\n",
        " \n",
        "for i in range(5):\n",
        "    a[i] = int(input())\n",
        "    \n",
        "    if a[i] < 40:\n",
        "        a[i] = 40\n",
        "        \n",
        "avg  = sum(a)/5       \n",
        "print(int(avg))"
      ],
      "execution_count": 2,
      "outputs": [
        {
          "output_type": "stream",
          "text": [
            "10\n",
            "65\n",
            "100\n",
            "30\n",
            "95\n",
            "68\n"
          ],
          "name": "stdout"
        }
      ]
    },
    {
      "cell_type": "markdown",
      "metadata": {
        "id": "modqKHyuveqE"
      },
      "source": [
        "# 문제\n",
        "- 주어진 수 N개 중에서 소수가 몇 개인지 찾아서 출력하는 프로그램을 작성하시오.\n",
        "\n",
        "# 입력\n",
        "- 첫 줄에 수의 개수 N이 주어진다. N은 100이하이다. \n",
        "- 다음으로 N개의 수가 주어지는데 수는 1,000 이하의 자연수이다.\n",
        "\n",
        "# 출력\n",
        "- 주어진 수들 중 소수의 개수를 출력한다."
      ]
    },
    {
      "cell_type": "code",
      "metadata": {
        "id": "FToJapEfspUZ",
        "outputId": "994e2f3e-75e6-4251-bd89-4b6a3015c0bc",
        "colab": {
          "base_uri": "https://localhost:8080/"
        }
      },
      "source": [
        "a = int(input())\n",
        "b = list(map(int, input().split()))\n",
        "res = 0\n",
        "for i in b:\n",
        "    count = 0\n",
        "    for j in range(1, i+1):\n",
        "\n",
        "        if i % j == 0:\n",
        "            count += 1\n",
        "    if count == 2:\n",
        "        res += 1\n",
        "\n",
        "print(res)"
      ],
      "execution_count": 4,
      "outputs": [
        {
          "output_type": "stream",
          "text": [
            "4\n",
            "1 3 5 7\n",
            "3\n"
          ],
          "name": "stdout"
        }
      ]
    },
    {
      "cell_type": "markdown",
      "metadata": {
        "id": "TWhdNAMA4unD"
      },
      "source": [
        "# 문제\n",
        "- M이상 N이하의 소수를 모두 출력하는 프로그램을 작성하시오.\n",
        "\n",
        "# 입력\n",
        "- 첫째 줄에 자연수 M과 N이 빈 칸을 사이에 두고 주어진다. (1 ≤ M ≤ N ≤ 1,000,000) \n",
        "- M이상 N이하의 소수가 하나 이상 있는 입력만 주어진다.\n",
        "\n",
        "# 출력\n",
        "- 한 줄에 하나씩, 증가하는 순서대로 소수를 출력한다."
      ]
    },
    {
      "cell_type": "code",
      "metadata": {
        "id": "Rz3twOfcwm2k",
        "outputId": "ee96e164-6b51-40b6-d911-11f231a0a27c",
        "colab": {
          "base_uri": "https://localhost:8080/"
        }
      },
      "source": [
        "a = list(map(int, input().split()))"
      ],
      "execution_count": 6,
      "outputs": [
        {
          "output_type": "stream",
          "text": [
            "3 16\n"
          ],
          "name": "stdout"
        }
      ]
    },
    {
      "cell_type": "code",
      "metadata": {
        "id": "sSnVA7bx4mAM",
        "outputId": "882f276a-dc7a-4c40-b359-49e1768d7bfb",
        "colab": {
          "base_uri": "https://localhost:8080/"
        }
      },
      "source": [
        "a"
      ],
      "execution_count": 7,
      "outputs": [
        {
          "output_type": "execute_result",
          "data": {
            "text/plain": [
              "[3, 16]"
            ]
          },
          "metadata": {
            "tags": []
          },
          "execution_count": 7
        }
      ]
    },
    {
      "cell_type": "code",
      "metadata": {
        "id": "00YCpOwJ4sXy",
        "outputId": "f3e6024e-8a34-42b4-9c71-469c4f8d4c89",
        "colab": {
          "base_uri": "https://localhost:8080/"
        }
      },
      "source": [
        "m, n = map(int, input().split())\n",
        "\n",
        "def isprime(m, n):\n",
        "  n += 1                            # for문 사용을 위한 n += 1\n",
        "  prime = [True] * n                # n개의 [True]가 있는 리스트 생성\n",
        "  for i in range(2, int(n**0.5)+1): # n의 제곱근까지만 검사\n",
        "    if prime[i]:                    # prime[i]가 True일때\n",
        "      for j in range(2*i, n, i):    # prime 내 i의 배수들을 False로 변환\n",
        "        prime[j] = False\n",
        "\n",
        "  for i in range(m, n):\n",
        "    if i > 1 and prime[i] == True:  # 1 이상이면서 남은 소수들을 출력\n",
        "      print(i)\n",
        "\n",
        "isprime(m, n)"
      ],
      "execution_count": 8,
      "outputs": [
        {
          "output_type": "stream",
          "text": [
            "3 16\n",
            "3\n",
            "5\n",
            "7\n",
            "11\n",
            "13\n"
          ],
          "name": "stdout"
        }
      ]
    },
    {
      "cell_type": "code",
      "metadata": {
        "id": "-sUdTWP-6e88"
      },
      "source": [
        ""
      ],
      "execution_count": null,
      "outputs": []
    }
  ]
}